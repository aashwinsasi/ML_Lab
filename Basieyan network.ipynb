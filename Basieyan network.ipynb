{
 "cells": [
  {
   "cell_type": "code",
   "execution_count": 16,
   "metadata": {},
   "outputs": [
    {
     "name": "stdout",
     "output_type": "stream",
     "text": [
      "Requirement already satisfied: pgmpy in c:\\users\\student\\anaconda3\\lib\\site-packages (0.1.7)\n",
      "Requirement already satisfied: networkx<1.12,>=1.11 in c:\\users\\student\\anaconda3\\lib\\site-packages (from pgmpy) (1.11)\n",
      "Requirement already satisfied: scipy>=1.0.0 in c:\\users\\student\\anaconda3\\lib\\site-packages (from pgmpy) (1.1.0)\n",
      "Requirement already satisfied: numpy>=1.14.0 in c:\\users\\student\\anaconda3\\lib\\site-packages (from pgmpy) (1.14.3)\n",
      "Requirement already satisfied: decorator>=3.4.0 in c:\\users\\student\\anaconda3\\lib\\site-packages (from networkx<1.12,>=1.11->pgmpy) (4.3.0)\n"
     ]
    },
    {
     "name": "stderr",
     "output_type": "stream",
     "text": [
      "distributed 1.21.8 requires msgpack, which is not installed.\n",
      "You are using pip version 10.0.1, however version 19.3 is available.\n",
      "You should consider upgrading via the 'python -m pip install --upgrade pip' command.\n"
     ]
    }
   ],
   "source": [
    "import pandas as pd\n",
    "!pip install pgmpy"
   ]
  },
  {
   "cell_type": "code",
   "execution_count": 18,
   "metadata": {},
   "outputs": [],
   "source": [
    "from urllib.request import urlopen\n",
    "from pgmpy.models import BayesianModel"
   ]
  },
  {
   "cell_type": "code",
   "execution_count": 19,
   "metadata": {},
   "outputs": [
    {
     "data": {
      "text/plain": [
       "['A', 'B', 'C', 'D', 'E', 'F', 'G', 'H', 'I', 'J', 'K', 'L', 'M', 'RESULT']"
      ]
     },
     "execution_count": 19,
     "metadata": {},
     "output_type": "execute_result"
    }
   ],
   "source": [
    "names = 'A,B,C,D,E,F,G,H,I,J,K,L,M,RESULT'\n",
    "names= names.split(\",\")\n",
    "names"
   ]
  },
  {
   "cell_type": "code",
   "execution_count": 33,
   "metadata": {},
   "outputs": [],
   "source": [
    "data = pd.read_csv(urlopen(\"http://bit.do/heart-disease\"),names=names)\n"
   ]
  },
  {
   "cell_type": "code",
   "execution_count": 34,
   "metadata": {},
   "outputs": [],
   "source": [
    "model = BayesianModel([(\"A\",\"B\"),(\"B\",\"C\"),(\"C\",\"RESULT\")])"
   ]
  },
  {
   "cell_type": "code",
   "execution_count": 35,
   "metadata": {},
   "outputs": [],
   "source": [
    "model.fit(data)"
   ]
  },
  {
   "cell_type": "code",
   "execution_count": 36,
   "metadata": {},
   "outputs": [],
   "source": [
    "from pgmpy.inference import VariableElimination\n",
    "infer = VariableElimination(model)"
   ]
  },
  {
   "cell_type": "code",
   "execution_count": 37,
   "metadata": {},
   "outputs": [],
   "source": [
    "q = infer.query(variables=[\"RESULT\"], evidence={\"A\":22})"
   ]
  },
  {
   "cell_type": "code",
   "execution_count": 39,
   "metadata": {},
   "outputs": [
    {
     "name": "stdout",
     "output_type": "stream",
     "text": [
      "+----------+---------------+\n",
      "| RESULT   |   phi(RESULT) |\n",
      "+==========+===============+\n",
      "| RESULT_0 |        0.5387 |\n",
      "+----------+---------------+\n",
      "| RESULT_1 |        0.1824 |\n",
      "+----------+---------------+\n",
      "| RESULT_2 |        0.1196 |\n",
      "+----------+---------------+\n",
      "| RESULT_3 |        0.1161 |\n",
      "+----------+---------------+\n",
      "| RESULT_4 |        0.0433 |\n",
      "+----------+---------------+\n"
     ]
    }
   ],
   "source": [
    "print(q[\"RESULT\"])"
   ]
  },
  {
   "cell_type": "code",
   "execution_count": null,
   "metadata": {},
   "outputs": [],
   "source": []
  }
 ],
 "metadata": {
  "kernelspec": {
   "display_name": "Python 3",
   "language": "python",
   "name": "python3"
  },
  "language_info": {
   "codemirror_mode": {
    "name": "ipython",
    "version": 3
   },
   "file_extension": ".py",
   "mimetype": "text/x-python",
   "name": "python",
   "nbconvert_exporter": "python",
   "pygments_lexer": "ipython3",
   "version": "3.6.5"
  }
 },
 "nbformat": 4,
 "nbformat_minor": 2
}
